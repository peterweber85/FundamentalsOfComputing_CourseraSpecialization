{
 "cells": [
  {
   "cell_type": "code",
   "execution_count": 19,
   "metadata": {
    "collapsed": true
   },
   "outputs": [],
   "source": [
    "EX_GRAPH0 = {0: [1, 2], 1:[], 2:[]}"
   ]
  },
  {
   "cell_type": "code",
   "execution_count": 20,
   "metadata": {
    "collapsed": true
   },
   "outputs": [],
   "source": [
    "EX_GRAPH1 = {0: [1, 4, 5], 1:[2,6], 2:[3], 3:[0], 4:[1], 5:[2], 6:[]}"
   ]
  },
  {
   "cell_type": "code",
   "execution_count": 21,
   "metadata": {
    "collapsed": true
   },
   "outputs": [],
   "source": [
    "EX_GRAPH2 = {0: [1, 4, 5], 1:[2, 6], 2:[3, 7], 3:[7], 4:[1], 5:[2], 6:[], 7:[3], 8:[1, 2], 9:[0, 3, 4, 5, 6, 7]}"
   ]
  },
  {
   "cell_type": "code",
   "execution_count": 22,
   "metadata": {
    "collapsed": true
   },
   "outputs": [],
   "source": [
    "def make_complete_graph(num_nodes):\n",
    "    \"\"\"\n",
    "    makes complete digraph\n",
    "    \"\"\"\n",
    "    empty_dict = dict()\n",
    "    if num_nodes <= 0:\n",
    "        return empty_dict\n",
    "    \n",
    "    for node in range(num_nodes):\n",
    "        empty_dict[node] = []\n",
    "        for edge in range(num_nodes):\n",
    "            if edge != node:\n",
    "                empty_dict[node].append(edge)\n",
    "    return empty_dict                        "
   ]
  },
  {
   "cell_type": "code",
   "execution_count": 26,
   "metadata": {
    "collapsed": false
   },
   "outputs": [],
   "source": [
    "def compute_in_degrees(digraph):\n",
    "    \"\"\"\n",
    "    returns dict with keys = nodes, values = no. of in_degrees\n",
    "    \"\"\"\n",
    "    nodes = digraph.keys()\n",
    "    count_dict = dict(zip(nodes, [0]*len(nodes)))\n",
    "    \n",
    "    for node in nodes:\n",
    "        for edge in digraph[node]:\n",
    "            #print \"pass\"\n",
    "            count_dict[edge] += 1\n",
    "    return count_dict\n",
    "    "
   ]
  },
  {
   "cell_type": "code",
   "execution_count": 48,
   "metadata": {
    "collapsed": true
   },
   "outputs": [],
   "source": [
    "def in_degree_distribution(digraph):\n",
    "    \"\"\"\n",
    "    returns\n",
    "    \"\"\"\n",
    "    import numpy as np\n",
    "    nodes = digraph.keys()\n",
    "    count_dict = dict(zip(nodes, [0]*len(nodes)))\n",
    "    \n",
    "    for node in nodes:\n",
    "        for edge in digraph[node]:\n",
    "            #print \"pass\"\n",
    "            count_dict[edge] += 1\n",
    "    \n",
    "    dist_nodes = set(count_dict.values())\n",
    "    #dist_count_dict = dict(zip(dist_nodes, [0]*len(dist_nodes)))\n",
    "    dist_count_dict = dict()\n",
    "    \n",
    "    for dist_node in dist_nodes:\n",
    "        dist_count_dict[dist_node] = np.sum(np.array(dist_node) == count_dict.values())\n",
    "           \n",
    "    return dist_count_dict        "
   ]
  },
  {
   "cell_type": "code",
   "execution_count": null,
   "metadata": {
    "collapsed": true
   },
   "outputs": [],
   "source": []
  }
 ],
 "metadata": {
  "kernelspec": {
   "display_name": "Python 2",
   "language": "python",
   "name": "python2"
  },
  "language_info": {
   "codemirror_mode": {
    "name": "ipython",
    "version": 2
   },
   "file_extension": ".py",
   "mimetype": "text/x-python",
   "name": "python",
   "nbconvert_exporter": "python",
   "pygments_lexer": "ipython2",
   "version": "2.7.11"
  }
 },
 "nbformat": 4,
 "nbformat_minor": 0
}
