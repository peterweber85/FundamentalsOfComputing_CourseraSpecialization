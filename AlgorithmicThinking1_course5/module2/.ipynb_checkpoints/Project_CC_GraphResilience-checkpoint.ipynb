{
 "cells": [
  {
   "cell_type": "code",
   "execution_count": 39,
   "metadata": {
    "collapsed": true
   },
   "outputs": [],
   "source": [
    "\"\"\"\n",
    "Project part of Algorithmic Thinking 1 module 2\n",
    "\"\"\"\n",
    "\n",
    "from collections import deque"
   ]
  },
  {
   "cell_type": "code",
   "execution_count": 40,
   "metadata": {
    "collapsed": false
   },
   "outputs": [],
   "source": [
    "def bfs_visited(ugraph, start_node):\n",
    "    \"\"\"\n",
    "    BREADTH-FIRST-SEARCH\n",
    "    \"\"\"\n",
    "    visited = set()\n",
    "    queue = deque()\n",
    "    \n",
    "    visited.add(start_node)    \n",
    "    queue.append(start_node)\n",
    "    \n",
    "    while queue:\n",
    "        node_j = queue.pop()\n",
    "        \n",
    "        for node in ugraph:\n",
    "            if node_j in ugraph[node]:\n",
    "                if node not in visited:\n",
    "                    visited.add(node)\n",
    "                    queue.append(node)\n",
    "    \n",
    "    return visited    "
   ]
  },
  {
   "cell_type": "code",
   "execution_count": 42,
   "metadata": {
    "collapsed": true
   },
   "outputs": [],
   "source": [
    "def cc_visited(ugraph):\n",
    "    \"\"\"\n",
    "    input: undirected graph\n",
    "    return: set of connected components\n",
    "    \"\"\"\n",
    "    \n",
    "    remaining_nodes = set(ugraph.keys())\n",
    "    connected = list()\n",
    "    \n",
    "    while len(remaining_nodes) > 0:\n",
    "        start_node = remaining_nodes.pop()\n",
    "        visited = bfs_visited(ugraph, start_node)\n",
    "        connected.append(visited)\n",
    "        remaining_nodes -= visited\n",
    "      \n",
    "    return connected    "
   ]
  },
  {
   "cell_type": "code",
   "execution_count": 43,
   "metadata": {
    "collapsed": true
   },
   "outputs": [],
   "source": [
    "def largest_cc_size(ugraph):\n",
    "    \"\"\"\n",
    "    returns largest cc size\n",
    "    \"\"\"\n",
    "    \n",
    "    components = cc_visited(ugraph)\n",
    "    \n",
    "    largest = 0\n",
    "    for component in components:\n",
    "        if len(component) > largest:\n",
    "            largest = len(component)\n",
    "    return largest"
   ]
  },
  {
   "cell_type": "code",
   "execution_count": 50,
   "metadata": {
    "collapsed": true
   },
   "outputs": [],
   "source": [
    "def compute_resilience(ugraph, attack_order):\n",
    "    \"\"\"\n",
    "    resilience\n",
    "    \"\"\"\n",
    "    resilience = [largest_cc_size(ugraph)]\n",
    "    for removed_node in attack_order:\n",
    "        ugraph.pop(removed_node) \n",
    "        ### Remove node from its neighbours here\n",
    "        for neighbor in ugraph.keys():\n",
    "            if removed_node in ugraph[neighbor]:\n",
    "                ugraph[neighbor].remove(removed_node)\n",
    "                \n",
    "        resilience.append(largest_cc_size(ugraph))\n",
    "    return resilience    "
   ]
  },
  {
   "cell_type": "code",
   "execution_count": 51,
   "metadata": {
    "collapsed": false
   },
   "outputs": [],
   "source": [
    "graph = {\n",
    "        0: set([1, 3, 4, 5]),\n",
    "        1: set([0, 2, 4, 6]),\n",
    "        2: set([1, 3, 5]),\n",
    "        3: set([0, 2]),\n",
    "        4: set([0, 1]),\n",
    "        5: set([0, 2]),\n",
    "        6: set([1]),\n",
    "        7: set([8, 9]),\n",
    "        8: set([9]),\n",
    "        9: set([7,8]),\n",
    "    }\n"
   ]
  }
 ],
 "metadata": {
  "kernelspec": {
   "display_name": "Python 2",
   "language": "python",
   "name": "python2"
  },
  "language_info": {
   "codemirror_mode": {
    "name": "ipython",
    "version": 2
   },
   "file_extension": ".py",
   "mimetype": "text/x-python",
   "name": "python",
   "nbconvert_exporter": "python",
   "pygments_lexer": "ipython2",
   "version": "2.7.11"
  }
 },
 "nbformat": 4,
 "nbformat_minor": 0
}
